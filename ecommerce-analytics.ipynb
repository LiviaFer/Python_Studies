{
 "cells": [
  {
   "cell_type": "code",
   "execution_count": 1,
   "id": "d256b200",
   "metadata": {
    "_cell_guid": "b1076dfc-b9ad-4769-8c92-a6c4dae69d19",
    "_uuid": "8f2839f25d086af736a60e9eeb907d3b93b6e0e5",
    "execution": {
     "iopub.execute_input": "2023-07-05T00:23:26.211074Z",
     "iopub.status.busy": "2023-07-05T00:23:26.210684Z",
     "iopub.status.idle": "2023-07-05T00:23:26.232468Z",
     "shell.execute_reply": "2023-07-05T00:23:26.230881Z"
    },
    "papermill": {
     "duration": 0.040981,
     "end_time": "2023-07-05T00:23:26.235835",
     "exception": false,
     "start_time": "2023-07-05T00:23:26.194854",
     "status": "completed"
    },
    "tags": []
   },
   "outputs": [
    {
     "name": "stdout",
     "output_type": "stream",
     "text": [
      "/kaggle/input/customer-lifetime-value-analytics-case-study/customer_acquisition_data.csv\n"
     ]
    }
   ],
   "source": [
    "# This Python 3 environment comes with many helpful analytics libraries installed\n",
    "# It is defined by the kaggle/python Docker image: https://github.com/kaggle/docker-python\n",
    "# For example, here's several helpful packages to load\n",
    "\n",
    "import numpy as np # linear algebra\n",
    "import pandas as pd # data processing, CSV file I/O (e.g. pd.read_csv)\n",
    "\n",
    "# Input data files are available in the read-only \"../input/\" directory\n",
    "# For example, running this (by clicking run or pressing Shift+Enter) will list all files under the input directory\n",
    "\n",
    "import os\n",
    "for dirname, _, filenames in os.walk('/kaggle/input'):\n",
    "    for filename in filenames:\n",
    "        print(os.path.join(dirname, filename))\n",
    "\n",
    "# You can write up to 20GB to the current directory (/kaggle/working/) that gets preserved as output when you create a version using \"Save & Run All\" \n",
    "# You can also write temporary files to /kaggle/temp/, but they won't be saved outside of the current session"
   ]
  },
  {
   "cell_type": "code",
   "execution_count": 2,
   "id": "d386f8c8",
   "metadata": {
    "execution": {
     "iopub.execute_input": "2023-07-05T00:23:26.262772Z",
     "iopub.status.busy": "2023-07-05T00:23:26.261502Z",
     "iopub.status.idle": "2023-07-05T00:23:28.099451Z",
     "shell.execute_reply": "2023-07-05T00:23:28.098244Z"
    },
    "papermill": {
     "duration": 1.853825,
     "end_time": "2023-07-05T00:23:28.102270",
     "exception": false,
     "start_time": "2023-07-05T00:23:26.248445",
     "status": "completed"
    },
    "tags": []
   },
   "outputs": [],
   "source": [
    "import seaborn as sns\n",
    "%matplotlib inline\n",
    "import matplotlib.pyplot as plt\n",
    "tips = sns.load_dataset(\"tips\")"
   ]
  },
  {
   "cell_type": "markdown",
   "id": "2236f159",
   "metadata": {
    "papermill": {
     "duration": 0.011296,
     "end_time": "2023-07-05T00:23:28.125430",
     "exception": false,
     "start_time": "2023-07-05T00:23:28.114134",
     "status": "completed"
    },
    "tags": []
   },
   "source": [
    "# Case Study: E-commerce Store\n",
    "\n",
    "## Background:\n",
    "\n",
    "ABC Electronics is an online retailer specializing in consumer electronics. They have been in operation for several years and have built a substantial customer base. ABC Electronics wants to understand the lifetime value of their customers to optimize their marketing strategies and improve customer retention.\n",
    "\n",
    "Objectives:\n",
    "\n",
    "Calculate the customer lifetime value for different segments of customers.\n",
    "Identify the most valuable customer segments.\n",
    "Develop personalized marketing strategies to increase customer retention and maximize CLV."
   ]
  },
  {
   "cell_type": "markdown",
   "id": "0be2e5a9",
   "metadata": {
    "papermill": {
     "duration": 0.011228,
     "end_time": "2023-07-05T00:23:28.148387",
     "exception": false,
     "start_time": "2023-07-05T00:23:28.137159",
     "status": "completed"
    },
    "tags": []
   },
   "source": [
    "# Objectives:\n",
    "\n",
    "Calculate the customer lifetime value for different segments of customers.\n",
    "\n",
    "Identify the most valuable customer segments.\n",
    "\n",
    "Develop personalized marketing strategies to increase customer retention and maximize CLV."
   ]
  },
  {
   "cell_type": "code",
   "execution_count": 3,
   "id": "9df40c17",
   "metadata": {
    "execution": {
     "iopub.execute_input": "2023-07-05T00:23:28.173680Z",
     "iopub.status.busy": "2023-07-05T00:23:28.173243Z",
     "iopub.status.idle": "2023-07-05T00:23:28.178067Z",
     "shell.execute_reply": "2023-07-05T00:23:28.176897Z"
    },
    "papermill": {
     "duration": 0.020538,
     "end_time": "2023-07-05T00:23:28.180607",
     "exception": false,
     "start_time": "2023-07-05T00:23:28.160069",
     "status": "completed"
    },
    "tags": []
   },
   "outputs": [],
   "source": [
    "url = '/kaggle/input/customer-lifetime-value-analytics-case-study/customer_acquisition_data.csv'\n"
   ]
  },
  {
   "cell_type": "code",
   "execution_count": 4,
   "id": "7a0efa83",
   "metadata": {
    "execution": {
     "iopub.execute_input": "2023-07-05T00:23:28.206632Z",
     "iopub.status.busy": "2023-07-05T00:23:28.205582Z",
     "iopub.status.idle": "2023-07-05T00:23:28.253278Z",
     "shell.execute_reply": "2023-07-05T00:23:28.252157Z"
    },
    "papermill": {
     "duration": 0.063719,
     "end_time": "2023-07-05T00:23:28.256235",
     "exception": false,
     "start_time": "2023-07-05T00:23:28.192516",
     "status": "completed"
    },
    "tags": []
   },
   "outputs": [
    {
     "data": {
      "text/html": [
       "<div>\n",
       "<style scoped>\n",
       "    .dataframe tbody tr th:only-of-type {\n",
       "        vertical-align: middle;\n",
       "    }\n",
       "\n",
       "    .dataframe tbody tr th {\n",
       "        vertical-align: top;\n",
       "    }\n",
       "\n",
       "    .dataframe thead th {\n",
       "        text-align: right;\n",
       "    }\n",
       "</style>\n",
       "<table border=\"1\" class=\"dataframe\">\n",
       "  <thead>\n",
       "    <tr style=\"text-align: right;\">\n",
       "      <th></th>\n",
       "      <th>customer_id</th>\n",
       "      <th>channel</th>\n",
       "      <th>cost</th>\n",
       "      <th>conversion_rate</th>\n",
       "      <th>revenue</th>\n",
       "    </tr>\n",
       "  </thead>\n",
       "  <tbody>\n",
       "    <tr>\n",
       "      <th>0</th>\n",
       "      <td>1</td>\n",
       "      <td>referral</td>\n",
       "      <td>8.320327</td>\n",
       "      <td>0.123145</td>\n",
       "      <td>4199</td>\n",
       "    </tr>\n",
       "    <tr>\n",
       "      <th>1</th>\n",
       "      <td>2</td>\n",
       "      <td>paid advertising</td>\n",
       "      <td>30.450327</td>\n",
       "      <td>0.016341</td>\n",
       "      <td>3410</td>\n",
       "    </tr>\n",
       "    <tr>\n",
       "      <th>2</th>\n",
       "      <td>3</td>\n",
       "      <td>email marketing</td>\n",
       "      <td>5.246263</td>\n",
       "      <td>0.043822</td>\n",
       "      <td>3164</td>\n",
       "    </tr>\n",
       "    <tr>\n",
       "      <th>3</th>\n",
       "      <td>4</td>\n",
       "      <td>social media</td>\n",
       "      <td>9.546326</td>\n",
       "      <td>0.167592</td>\n",
       "      <td>1520</td>\n",
       "    </tr>\n",
       "    <tr>\n",
       "      <th>4</th>\n",
       "      <td>5</td>\n",
       "      <td>referral</td>\n",
       "      <td>8.320327</td>\n",
       "      <td>0.123145</td>\n",
       "      <td>2419</td>\n",
       "    </tr>\n",
       "    <tr>\n",
       "      <th>...</th>\n",
       "      <td>...</td>\n",
       "      <td>...</td>\n",
       "      <td>...</td>\n",
       "      <td>...</td>\n",
       "      <td>...</td>\n",
       "    </tr>\n",
       "    <tr>\n",
       "      <th>795</th>\n",
       "      <td>796</td>\n",
       "      <td>social media</td>\n",
       "      <td>9.546326</td>\n",
       "      <td>0.167592</td>\n",
       "      <td>2813</td>\n",
       "    </tr>\n",
       "    <tr>\n",
       "      <th>796</th>\n",
       "      <td>797</td>\n",
       "      <td>email marketing</td>\n",
       "      <td>5.246263</td>\n",
       "      <td>0.043822</td>\n",
       "      <td>3439</td>\n",
       "    </tr>\n",
       "    <tr>\n",
       "      <th>797</th>\n",
       "      <td>798</td>\n",
       "      <td>social media</td>\n",
       "      <td>9.546326</td>\n",
       "      <td>0.167592</td>\n",
       "      <td>2101</td>\n",
       "    </tr>\n",
       "    <tr>\n",
       "      <th>798</th>\n",
       "      <td>799</td>\n",
       "      <td>paid advertising</td>\n",
       "      <td>30.450327</td>\n",
       "      <td>0.016341</td>\n",
       "      <td>813</td>\n",
       "    </tr>\n",
       "    <tr>\n",
       "      <th>799</th>\n",
       "      <td>800</td>\n",
       "      <td>email marketing</td>\n",
       "      <td>5.246263</td>\n",
       "      <td>0.043822</td>\n",
       "      <td>4820</td>\n",
       "    </tr>\n",
       "  </tbody>\n",
       "</table>\n",
       "<p>800 rows × 5 columns</p>\n",
       "</div>"
      ],
      "text/plain": [
       "     customer_id           channel       cost  conversion_rate  revenue\n",
       "0              1          referral   8.320327         0.123145     4199\n",
       "1              2  paid advertising  30.450327         0.016341     3410\n",
       "2              3   email marketing   5.246263         0.043822     3164\n",
       "3              4      social media   9.546326         0.167592     1520\n",
       "4              5          referral   8.320327         0.123145     2419\n",
       "..           ...               ...        ...              ...      ...\n",
       "795          796      social media   9.546326         0.167592     2813\n",
       "796          797   email marketing   5.246263         0.043822     3439\n",
       "797          798      social media   9.546326         0.167592     2101\n",
       "798          799  paid advertising  30.450327         0.016341      813\n",
       "799          800   email marketing   5.246263         0.043822     4820\n",
       "\n",
       "[800 rows x 5 columns]"
      ]
     },
     "metadata": {},
     "output_type": "display_data"
    }
   ],
   "source": [
    "df = pd.read_csv(url)\n",
    "display(df)"
   ]
  },
  {
   "cell_type": "code",
   "execution_count": 5,
   "id": "ba379944",
   "metadata": {
    "execution": {
     "iopub.execute_input": "2023-07-05T00:23:28.283758Z",
     "iopub.status.busy": "2023-07-05T00:23:28.283109Z",
     "iopub.status.idle": "2023-07-05T00:23:28.297952Z",
     "shell.execute_reply": "2023-07-05T00:23:28.296818Z"
    },
    "papermill": {
     "duration": 0.031678,
     "end_time": "2023-07-05T00:23:28.300401",
     "exception": false,
     "start_time": "2023-07-05T00:23:28.268723",
     "status": "completed"
    },
    "tags": []
   },
   "outputs": [
    {
     "data": {
      "text/html": [
       "<div>\n",
       "<style scoped>\n",
       "    .dataframe tbody tr th:only-of-type {\n",
       "        vertical-align: middle;\n",
       "    }\n",
       "\n",
       "    .dataframe tbody tr th {\n",
       "        vertical-align: top;\n",
       "    }\n",
       "\n",
       "    .dataframe thead th {\n",
       "        text-align: right;\n",
       "    }\n",
       "</style>\n",
       "<table border=\"1\" class=\"dataframe\">\n",
       "  <thead>\n",
       "    <tr style=\"text-align: right;\">\n",
       "      <th></th>\n",
       "      <th>cost</th>\n",
       "      <th>conversion_rate</th>\n",
       "      <th>revenue</th>\n",
       "    </tr>\n",
       "  </thead>\n",
       "  <tbody>\n",
       "    <tr>\n",
       "      <th>cost</th>\n",
       "      <td>1.000000</td>\n",
       "      <td>-0.537430</td>\n",
       "      <td>0.018642</td>\n",
       "    </tr>\n",
       "    <tr>\n",
       "      <th>conversion_rate</th>\n",
       "      <td>-0.537430</td>\n",
       "      <td>1.000000</td>\n",
       "      <td>-0.050456</td>\n",
       "    </tr>\n",
       "    <tr>\n",
       "      <th>revenue</th>\n",
       "      <td>0.018642</td>\n",
       "      <td>-0.050456</td>\n",
       "      <td>1.000000</td>\n",
       "    </tr>\n",
       "  </tbody>\n",
       "</table>\n",
       "</div>"
      ],
      "text/plain": [
       "                     cost  conversion_rate   revenue\n",
       "cost             1.000000        -0.537430  0.018642\n",
       "conversion_rate -0.537430         1.000000 -0.050456\n",
       "revenue          0.018642        -0.050456  1.000000"
      ]
     },
     "execution_count": 5,
     "metadata": {},
     "output_type": "execute_result"
    }
   ],
   "source": [
    "# corr() method finds the correlation of each column in a DataFrame.\n",
    "df[['cost','conversion_rate','revenue']].corr()"
   ]
  },
  {
   "cell_type": "code",
   "execution_count": 6,
   "id": "a8a1fb5a",
   "metadata": {
    "execution": {
     "iopub.execute_input": "2023-07-05T00:23:28.326859Z",
     "iopub.status.busy": "2023-07-05T00:23:28.326208Z",
     "iopub.status.idle": "2023-07-05T00:23:28.725901Z",
     "shell.execute_reply": "2023-07-05T00:23:28.724750Z"
    },
    "papermill": {
     "duration": 0.415619,
     "end_time": "2023-07-05T00:23:28.728249",
     "exception": false,
     "start_time": "2023-07-05T00:23:28.312630",
     "status": "completed"
    },
    "tags": []
   },
   "outputs": [
    {
     "data": {
      "text/plain": [
       "<Axes: >"
      ]
     },
     "execution_count": 6,
     "metadata": {},
     "output_type": "execute_result"
    },
    {
     "data": {
      "image/png": "[encoded data removed]",
      "text/plain": [
       "<Figure size 800x400 with 2 Axes>"
      ]
     },
     "metadata": {},
     "output_type": "display_data"
    }
   ],
   "source": [
    "plt.figure(figsize=(8,4))\n",
    "sns.heatmap(df[['cost','conversion_rate','revenue']].corr(), annot=True)"
   ]
  },
  {
   "cell_type": "markdown",
   "id": "56bc880e",
   "metadata": {
    "papermill": {
     "duration": 0.012448,
     "end_time": "2023-07-05T00:23:28.753558",
     "exception": false,
     "start_time": "2023-07-05T00:23:28.741110",
     "status": "completed"
    },
    "tags": []
   },
   "source": [
    "## What is Average Order Value?\n",
    "\n",
    "## Average Order Value (AOV)  \n",
    "\n",
    "Is an ecommerce metric that measures the average total of every order placed with a merchant over a defined period of time. AOV is one of the most important metrics for online stores to be aware of, driving key business decisions such as advertising spend, store layout, and product pricing.\n",
    "\n",
    "Revenue/Number of orders = Average Order Value\n"
   ]
  },
  {
   "cell_type": "code",
   "execution_count": 7,
   "id": "4605fa68",
   "metadata": {
    "execution": {
     "iopub.execute_input": "2023-07-05T00:23:28.781495Z",
     "iopub.status.busy": "2023-07-05T00:23:28.780795Z",
     "iopub.status.idle": "2023-07-05T00:23:28.788130Z",
     "shell.execute_reply": "2023-07-05T00:23:28.786844Z"
    },
    "papermill": {
     "duration": 0.024106,
     "end_time": "2023-07-05T00:23:28.790557",
     "exception": false,
     "start_time": "2023-07-05T00:23:28.766451",
     "status": "completed"
    },
    "tags": []
   },
   "outputs": [
    {
     "name": "stdout",
     "output_type": "stream",
     "text": [
      "The Average Order Value (AOV) is 2769.15125\n"
     ]
    }
   ],
   "source": [
    "#aov \n",
    "total_revenue = df['revenue'].sum()\n",
    "total_orders =df['customer_id'].count()\n",
    "\n",
    "aov = total_revenue/total_orders\n",
    "print('The Average Order Value (AOV) is', aov)\n",
    "\n"
   ]
  },
  {
   "cell_type": "code",
   "execution_count": 8,
   "id": "102a79d2",
   "metadata": {
    "execution": {
     "iopub.execute_input": "2023-07-05T00:23:28.818862Z",
     "iopub.status.busy": "2023-07-05T00:23:28.818075Z",
     "iopub.status.idle": "2023-07-05T00:23:28.836283Z",
     "shell.execute_reply": "2023-07-05T00:23:28.835050Z"
    },
    "papermill": {
     "duration": 0.03535,
     "end_time": "2023-07-05T00:23:28.838983",
     "exception": false,
     "start_time": "2023-07-05T00:23:28.803633",
     "status": "completed"
    },
    "tags": []
   },
   "outputs": [
    {
     "data": {
      "text/html": [
       "<div>\n",
       "<style scoped>\n",
       "    .dataframe tbody tr th:only-of-type {\n",
       "        vertical-align: middle;\n",
       "    }\n",
       "\n",
       "    .dataframe tbody tr th {\n",
       "        vertical-align: top;\n",
       "    }\n",
       "\n",
       "    .dataframe thead th {\n",
       "        text-align: right;\n",
       "    }\n",
       "</style>\n",
       "<table border=\"1\" class=\"dataframe\">\n",
       "  <thead>\n",
       "    <tr style=\"text-align: right;\">\n",
       "      <th></th>\n",
       "      <th>customer_id</th>\n",
       "      <th>channel</th>\n",
       "      <th>cost</th>\n",
       "      <th>conversion_rate</th>\n",
       "      <th>revenue</th>\n",
       "      <th>AOV</th>\n",
       "    </tr>\n",
       "  </thead>\n",
       "  <tbody>\n",
       "    <tr>\n",
       "      <th>0</th>\n",
       "      <td>1</td>\n",
       "      <td>referral</td>\n",
       "      <td>8.320327</td>\n",
       "      <td>0.123145</td>\n",
       "      <td>4199</td>\n",
       "      <td>5.24875</td>\n",
       "    </tr>\n",
       "    <tr>\n",
       "      <th>1</th>\n",
       "      <td>2</td>\n",
       "      <td>paid advertising</td>\n",
       "      <td>30.450327</td>\n",
       "      <td>0.016341</td>\n",
       "      <td>3410</td>\n",
       "      <td>4.26250</td>\n",
       "    </tr>\n",
       "    <tr>\n",
       "      <th>2</th>\n",
       "      <td>3</td>\n",
       "      <td>email marketing</td>\n",
       "      <td>5.246263</td>\n",
       "      <td>0.043822</td>\n",
       "      <td>3164</td>\n",
       "      <td>3.95500</td>\n",
       "    </tr>\n",
       "    <tr>\n",
       "      <th>3</th>\n",
       "      <td>4</td>\n",
       "      <td>social media</td>\n",
       "      <td>9.546326</td>\n",
       "      <td>0.167592</td>\n",
       "      <td>1520</td>\n",
       "      <td>1.90000</td>\n",
       "    </tr>\n",
       "    <tr>\n",
       "      <th>4</th>\n",
       "      <td>5</td>\n",
       "      <td>referral</td>\n",
       "      <td>8.320327</td>\n",
       "      <td>0.123145</td>\n",
       "      <td>2419</td>\n",
       "      <td>3.02375</td>\n",
       "    </tr>\n",
       "    <tr>\n",
       "      <th>...</th>\n",
       "      <td>...</td>\n",
       "      <td>...</td>\n",
       "      <td>...</td>\n",
       "      <td>...</td>\n",
       "      <td>...</td>\n",
       "      <td>...</td>\n",
       "    </tr>\n",
       "    <tr>\n",
       "      <th>795</th>\n",
       "      <td>796</td>\n",
       "      <td>social media</td>\n",
       "      <td>9.546326</td>\n",
       "      <td>0.167592</td>\n",
       "      <td>2813</td>\n",
       "      <td>3.51625</td>\n",
       "    </tr>\n",
       "    <tr>\n",
       "      <th>796</th>\n",
       "      <td>797</td>\n",
       "      <td>email marketing</td>\n",
       "      <td>5.246263</td>\n",
       "      <td>0.043822</td>\n",
       "      <td>3439</td>\n",
       "      <td>4.29875</td>\n",
       "    </tr>\n",
       "    <tr>\n",
       "      <th>797</th>\n",
       "      <td>798</td>\n",
       "      <td>social media</td>\n",
       "      <td>9.546326</td>\n",
       "      <td>0.167592</td>\n",
       "      <td>2101</td>\n",
       "      <td>2.62625</td>\n",
       "    </tr>\n",
       "    <tr>\n",
       "      <th>798</th>\n",
       "      <td>799</td>\n",
       "      <td>paid advertising</td>\n",
       "      <td>30.450327</td>\n",
       "      <td>0.016341</td>\n",
       "      <td>813</td>\n",
       "      <td>1.01625</td>\n",
       "    </tr>\n",
       "    <tr>\n",
       "      <th>799</th>\n",
       "      <td>800</td>\n",
       "      <td>email marketing</td>\n",
       "      <td>5.246263</td>\n",
       "      <td>0.043822</td>\n",
       "      <td>4820</td>\n",
       "      <td>6.02500</td>\n",
       "    </tr>\n",
       "  </tbody>\n",
       "</table>\n",
       "<p>800 rows × 6 columns</p>\n",
       "</div>"
      ],
      "text/plain": [
       "     customer_id           channel       cost  conversion_rate  revenue  \\\n",
       "0              1          referral   8.320327         0.123145     4199   \n",
       "1              2  paid advertising  30.450327         0.016341     3410   \n",
       "2              3   email marketing   5.246263         0.043822     3164   \n",
       "3              4      social media   9.546326         0.167592     1520   \n",
       "4              5          referral   8.320327         0.123145     2419   \n",
       "..           ...               ...        ...              ...      ...   \n",
       "795          796      social media   9.546326         0.167592     2813   \n",
       "796          797   email marketing   5.246263         0.043822     3439   \n",
       "797          798      social media   9.546326         0.167592     2101   \n",
       "798          799  paid advertising  30.450327         0.016341      813   \n",
       "799          800   email marketing   5.246263         0.043822     4820   \n",
       "\n",
       "         AOV  \n",
       "0    5.24875  \n",
       "1    4.26250  \n",
       "2    3.95500  \n",
       "3    1.90000  \n",
       "4    3.02375  \n",
       "..       ...  \n",
       "795  3.51625  \n",
       "796  4.29875  \n",
       "797  2.62625  \n",
       "798  1.01625  \n",
       "799  6.02500  \n",
       "\n",
       "[800 rows x 6 columns]"
      ]
     },
     "execution_count": 8,
     "metadata": {},
     "output_type": "execute_result"
    }
   ],
   "source": [
    "df['AOV'] = df['revenue']/800\n",
    "df"
   ]
  },
  {
   "cell_type": "code",
   "execution_count": 9,
   "id": "2050d6d7",
   "metadata": {
    "execution": {
     "iopub.execute_input": "2023-07-05T00:23:28.868452Z",
     "iopub.status.busy": "2023-07-05T00:23:28.867992Z",
     "iopub.status.idle": "2023-07-05T00:23:28.875303Z",
     "shell.execute_reply": "2023-07-05T00:23:28.873450Z"
    },
    "papermill": {
     "duration": 0.025501,
     "end_time": "2023-07-05T00:23:28.878131",
     "exception": false,
     "start_time": "2023-07-05T00:23:28.852630",
     "status": "completed"
    },
    "tags": []
   },
   "outputs": [
    {
     "name": "stdout",
     "output_type": "stream",
     "text": [
      "Purchase Frequency is 1.0\n"
     ]
    }
   ],
   "source": [
    "# purchase frequency\n",
    "purchase_frequency = 800/800\n",
    "\n",
    "print('Purchase Frequency is', purchase_frequency)"
   ]
  },
  {
   "cell_type": "code",
   "execution_count": 10,
   "id": "6ef1bced",
   "metadata": {
    "execution": {
     "iopub.execute_input": "2023-07-05T00:23:28.907931Z",
     "iopub.status.busy": "2023-07-05T00:23:28.907238Z",
     "iopub.status.idle": "2023-07-05T00:23:28.913901Z",
     "shell.execute_reply": "2023-07-05T00:23:28.912891Z"
    },
    "papermill": {
     "duration": 0.0246,
     "end_time": "2023-07-05T00:23:28.916445",
     "exception": false,
     "start_time": "2023-07-05T00:23:28.891845",
     "status": "completed"
    },
    "tags": []
   },
   "outputs": [],
   "source": [
    "df['gross_profit']=df['revenue']-df['cost']"
   ]
  },
  {
   "cell_type": "markdown",
   "id": "b84a0552",
   "metadata": {
    "papermill": {
     "duration": 0.013152,
     "end_time": "2023-07-05T00:23:28.943636",
     "exception": false,
     "start_time": "2023-07-05T00:23:28.930484",
     "status": "completed"
    },
    "tags": []
   },
   "source": [
    "![](https://delighted.com/wp-content/uploads/2022/06/calculation-clv-4-2x.png)"
   ]
  },
  {
   "cell_type": "code",
   "execution_count": 11,
   "id": "9a1c95b8",
   "metadata": {
    "execution": {
     "iopub.execute_input": "2023-07-05T00:23:28.972748Z",
     "iopub.status.busy": "2023-07-05T00:23:28.972291Z",
     "iopub.status.idle": "2023-07-05T00:23:28.995343Z",
     "shell.execute_reply": "2023-07-05T00:23:28.994043Z"
    },
    "papermill": {
     "duration": 0.040527,
     "end_time": "2023-07-05T00:23:28.997926",
     "exception": false,
     "start_time": "2023-07-05T00:23:28.957399",
     "status": "completed"
    },
    "tags": []
   },
   "outputs": [
    {
     "data": {
      "text/html": [
       "<div>\n",
       "<style scoped>\n",
       "    .dataframe tbody tr th:only-of-type {\n",
       "        vertical-align: middle;\n",
       "    }\n",
       "\n",
       "    .dataframe tbody tr th {\n",
       "        vertical-align: top;\n",
       "    }\n",
       "\n",
       "    .dataframe thead th {\n",
       "        text-align: right;\n",
       "    }\n",
       "</style>\n",
       "<table border=\"1\" class=\"dataframe\">\n",
       "  <thead>\n",
       "    <tr style=\"text-align: right;\">\n",
       "      <th></th>\n",
       "      <th>customer_id</th>\n",
       "      <th>channel</th>\n",
       "      <th>cost</th>\n",
       "      <th>conversion_rate</th>\n",
       "      <th>revenue</th>\n",
       "      <th>AOV</th>\n",
       "      <th>gross_profit</th>\n",
       "      <th>clv</th>\n",
       "    </tr>\n",
       "  </thead>\n",
       "  <tbody>\n",
       "    <tr>\n",
       "      <th>0</th>\n",
       "      <td>1</td>\n",
       "      <td>referral</td>\n",
       "      <td>8.320327</td>\n",
       "      <td>0.123145</td>\n",
       "      <td>4199</td>\n",
       "      <td>5.24875</td>\n",
       "      <td>4190.679673</td>\n",
       "      <td>62.024146</td>\n",
       "    </tr>\n",
       "    <tr>\n",
       "      <th>1</th>\n",
       "      <td>2</td>\n",
       "      <td>paid advertising</td>\n",
       "      <td>30.450327</td>\n",
       "      <td>0.016341</td>\n",
       "      <td>3410</td>\n",
       "      <td>4.26250</td>\n",
       "      <td>3379.549673</td>\n",
       "      <td>1.813671</td>\n",
       "    </tr>\n",
       "    <tr>\n",
       "      <th>2</th>\n",
       "      <td>3</td>\n",
       "      <td>email marketing</td>\n",
       "      <td>5.246263</td>\n",
       "      <td>0.043822</td>\n",
       "      <td>3164</td>\n",
       "      <td>3.95500</td>\n",
       "      <td>3158.753737</td>\n",
       "      <td>26.385185</td>\n",
       "    </tr>\n",
       "    <tr>\n",
       "      <th>3</th>\n",
       "      <td>4</td>\n",
       "      <td>social media</td>\n",
       "      <td>9.546326</td>\n",
       "      <td>0.167592</td>\n",
       "      <td>1520</td>\n",
       "      <td>1.90000</td>\n",
       "      <td>1510.453674</td>\n",
       "      <td>26.517043</td>\n",
       "    </tr>\n",
       "    <tr>\n",
       "      <th>4</th>\n",
       "      <td>5</td>\n",
       "      <td>referral</td>\n",
       "      <td>8.320327</td>\n",
       "      <td>0.123145</td>\n",
       "      <td>2419</td>\n",
       "      <td>3.02375</td>\n",
       "      <td>2410.679673</td>\n",
       "      <td>35.679260</td>\n",
       "    </tr>\n",
       "    <tr>\n",
       "      <th>...</th>\n",
       "      <td>...</td>\n",
       "      <td>...</td>\n",
       "      <td>...</td>\n",
       "      <td>...</td>\n",
       "      <td>...</td>\n",
       "      <td>...</td>\n",
       "      <td>...</td>\n",
       "      <td>...</td>\n",
       "    </tr>\n",
       "    <tr>\n",
       "      <th>795</th>\n",
       "      <td>796</td>\n",
       "      <td>social media</td>\n",
       "      <td>9.546326</td>\n",
       "      <td>0.167592</td>\n",
       "      <td>2813</td>\n",
       "      <td>3.51625</td>\n",
       "      <td>2803.453674</td>\n",
       "      <td>49.216538</td>\n",
       "    </tr>\n",
       "    <tr>\n",
       "      <th>796</th>\n",
       "      <td>797</td>\n",
       "      <td>email marketing</td>\n",
       "      <td>5.246263</td>\n",
       "      <td>0.043822</td>\n",
       "      <td>3439</td>\n",
       "      <td>4.29875</td>\n",
       "      <td>3433.753737</td>\n",
       "      <td>28.682270</td>\n",
       "    </tr>\n",
       "    <tr>\n",
       "      <th>797</th>\n",
       "      <td>798</td>\n",
       "      <td>social media</td>\n",
       "      <td>9.546326</td>\n",
       "      <td>0.167592</td>\n",
       "      <td>2101</td>\n",
       "      <td>2.62625</td>\n",
       "      <td>2091.453674</td>\n",
       "      <td>36.716893</td>\n",
       "    </tr>\n",
       "    <tr>\n",
       "      <th>798</th>\n",
       "      <td>799</td>\n",
       "      <td>paid advertising</td>\n",
       "      <td>30.450327</td>\n",
       "      <td>0.016341</td>\n",
       "      <td>813</td>\n",
       "      <td>1.01625</td>\n",
       "      <td>782.549673</td>\n",
       "      <td>0.419964</td>\n",
       "    </tr>\n",
       "    <tr>\n",
       "      <th>799</th>\n",
       "      <td>800</td>\n",
       "      <td>email marketing</td>\n",
       "      <td>5.246263</td>\n",
       "      <td>0.043822</td>\n",
       "      <td>4820</td>\n",
       "      <td>6.02500</td>\n",
       "      <td>4814.753737</td>\n",
       "      <td>40.217814</td>\n",
       "    </tr>\n",
       "  </tbody>\n",
       "</table>\n",
       "<p>800 rows × 8 columns</p>\n",
       "</div>"
      ],
      "text/plain": [
       "     customer_id           channel       cost  conversion_rate  revenue  \\\n",
       "0              1          referral   8.320327         0.123145     4199   \n",
       "1              2  paid advertising  30.450327         0.016341     3410   \n",
       "2              3   email marketing   5.246263         0.043822     3164   \n",
       "3              4      social media   9.546326         0.167592     1520   \n",
       "4              5          referral   8.320327         0.123145     2419   \n",
       "..           ...               ...        ...              ...      ...   \n",
       "795          796      social media   9.546326         0.167592     2813   \n",
       "796          797   email marketing   5.246263         0.043822     3439   \n",
       "797          798      social media   9.546326         0.167592     2101   \n",
       "798          799  paid advertising  30.450327         0.016341      813   \n",
       "799          800   email marketing   5.246263         0.043822     4820   \n",
       "\n",
       "         AOV  gross_profit        clv  \n",
       "0    5.24875   4190.679673  62.024146  \n",
       "1    4.26250   3379.549673   1.813671  \n",
       "2    3.95500   3158.753737  26.385185  \n",
       "3    1.90000   1510.453674  26.517043  \n",
       "4    3.02375   2410.679673  35.679260  \n",
       "..       ...           ...        ...  \n",
       "795  3.51625   2803.453674  49.216538  \n",
       "796  4.29875   3433.753737  28.682270  \n",
       "797  2.62625   2091.453674  36.716893  \n",
       "798  1.01625    782.549673   0.419964  \n",
       "799  6.02500   4814.753737  40.217814  \n",
       "\n",
       "[800 rows x 8 columns]"
      ]
     },
     "execution_count": 11,
     "metadata": {},
     "output_type": "execute_result"
    }
   ],
   "source": [
    "df['clv']=df['gross_profit']* df['conversion_rate'] / df['cost']\n",
    "df"
   ]
  },
  {
   "cell_type": "markdown",
   "id": "0bc1955f",
   "metadata": {
    "papermill": {
     "duration": 0.013224,
     "end_time": "2023-07-05T00:23:29.024946",
     "exception": false,
     "start_time": "2023-07-05T00:23:29.011722",
     "status": "completed"
    },
    "tags": []
   },
   "source": [
    "![](https://www.ispringsolutions.com/blog/wp-content/uploads/editor/2019/06/ispring-blog-image-1559847448.png)"
   ]
  },
  {
   "cell_type": "markdown",
   "id": "bbb76c67",
   "metadata": {
    "papermill": {
     "duration": 0.015303,
     "end_time": "2023-07-05T00:23:29.053967",
     "exception": false,
     "start_time": "2023-07-05T00:23:29.038664",
     "status": "completed"
    },
    "tags": []
   },
   "source": [
    "[](https://www.ispringsolutions.com/blog/wp-content/uploads/editor/2019/06/ispring-blog-image-1559847448.png)"
   ]
  },
  {
   "cell_type": "code",
   "execution_count": 12,
   "id": "ce05c049",
   "metadata": {
    "execution": {
     "iopub.execute_input": "2023-07-05T00:23:29.084710Z",
     "iopub.status.busy": "2023-07-05T00:23:29.083900Z",
     "iopub.status.idle": "2023-07-05T00:23:29.107871Z",
     "shell.execute_reply": "2023-07-05T00:23:29.106620Z"
    },
    "papermill": {
     "duration": 0.04219,
     "end_time": "2023-07-05T00:23:29.110404",
     "exception": false,
     "start_time": "2023-07-05T00:23:29.068214",
     "status": "completed"
    },
    "tags": []
   },
   "outputs": [
    {
     "data": {
      "text/html": [
       "<div>\n",
       "<style scoped>\n",
       "    .dataframe tbody tr th:only-of-type {\n",
       "        vertical-align: middle;\n",
       "    }\n",
       "\n",
       "    .dataframe tbody tr th {\n",
       "        vertical-align: top;\n",
       "    }\n",
       "\n",
       "    .dataframe thead th {\n",
       "        text-align: right;\n",
       "    }\n",
       "</style>\n",
       "<table border=\"1\" class=\"dataframe\">\n",
       "  <thead>\n",
       "    <tr style=\"text-align: right;\">\n",
       "      <th></th>\n",
       "      <th>customer_id</th>\n",
       "      <th>channel</th>\n",
       "      <th>cost</th>\n",
       "      <th>conversion_rate</th>\n",
       "      <th>revenue</th>\n",
       "      <th>AOV</th>\n",
       "      <th>gross_profit</th>\n",
       "      <th>clv</th>\n",
       "      <th>roi</th>\n",
       "    </tr>\n",
       "  </thead>\n",
       "  <tbody>\n",
       "    <tr>\n",
       "      <th>0</th>\n",
       "      <td>1</td>\n",
       "      <td>referral</td>\n",
       "      <td>8.320327</td>\n",
       "      <td>0.123145</td>\n",
       "      <td>4199</td>\n",
       "      <td>5.24875</td>\n",
       "      <td>4190.679673</td>\n",
       "      <td>62.024146</td>\n",
       "      <td>4198.0</td>\n",
       "    </tr>\n",
       "    <tr>\n",
       "      <th>1</th>\n",
       "      <td>2</td>\n",
       "      <td>paid advertising</td>\n",
       "      <td>30.450327</td>\n",
       "      <td>0.016341</td>\n",
       "      <td>3410</td>\n",
       "      <td>4.26250</td>\n",
       "      <td>3379.549673</td>\n",
       "      <td>1.813671</td>\n",
       "      <td>3409.0</td>\n",
       "    </tr>\n",
       "    <tr>\n",
       "      <th>2</th>\n",
       "      <td>3</td>\n",
       "      <td>email marketing</td>\n",
       "      <td>5.246263</td>\n",
       "      <td>0.043822</td>\n",
       "      <td>3164</td>\n",
       "      <td>3.95500</td>\n",
       "      <td>3158.753737</td>\n",
       "      <td>26.385185</td>\n",
       "      <td>3163.0</td>\n",
       "    </tr>\n",
       "    <tr>\n",
       "      <th>3</th>\n",
       "      <td>4</td>\n",
       "      <td>social media</td>\n",
       "      <td>9.546326</td>\n",
       "      <td>0.167592</td>\n",
       "      <td>1520</td>\n",
       "      <td>1.90000</td>\n",
       "      <td>1510.453674</td>\n",
       "      <td>26.517043</td>\n",
       "      <td>1519.0</td>\n",
       "    </tr>\n",
       "    <tr>\n",
       "      <th>4</th>\n",
       "      <td>5</td>\n",
       "      <td>referral</td>\n",
       "      <td>8.320327</td>\n",
       "      <td>0.123145</td>\n",
       "      <td>2419</td>\n",
       "      <td>3.02375</td>\n",
       "      <td>2410.679673</td>\n",
       "      <td>35.679260</td>\n",
       "      <td>2418.0</td>\n",
       "    </tr>\n",
       "    <tr>\n",
       "      <th>...</th>\n",
       "      <td>...</td>\n",
       "      <td>...</td>\n",
       "      <td>...</td>\n",
       "      <td>...</td>\n",
       "      <td>...</td>\n",
       "      <td>...</td>\n",
       "      <td>...</td>\n",
       "      <td>...</td>\n",
       "      <td>...</td>\n",
       "    </tr>\n",
       "    <tr>\n",
       "      <th>795</th>\n",
       "      <td>796</td>\n",
       "      <td>social media</td>\n",
       "      <td>9.546326</td>\n",
       "      <td>0.167592</td>\n",
       "      <td>2813</td>\n",
       "      <td>3.51625</td>\n",
       "      <td>2803.453674</td>\n",
       "      <td>49.216538</td>\n",
       "      <td>2812.0</td>\n",
       "    </tr>\n",
       "    <tr>\n",
       "      <th>796</th>\n",
       "      <td>797</td>\n",
       "      <td>email marketing</td>\n",
       "      <td>5.246263</td>\n",
       "      <td>0.043822</td>\n",
       "      <td>3439</td>\n",
       "      <td>4.29875</td>\n",
       "      <td>3433.753737</td>\n",
       "      <td>28.682270</td>\n",
       "      <td>3438.0</td>\n",
       "    </tr>\n",
       "    <tr>\n",
       "      <th>797</th>\n",
       "      <td>798</td>\n",
       "      <td>social media</td>\n",
       "      <td>9.546326</td>\n",
       "      <td>0.167592</td>\n",
       "      <td>2101</td>\n",
       "      <td>2.62625</td>\n",
       "      <td>2091.453674</td>\n",
       "      <td>36.716893</td>\n",
       "      <td>2100.0</td>\n",
       "    </tr>\n",
       "    <tr>\n",
       "      <th>798</th>\n",
       "      <td>799</td>\n",
       "      <td>paid advertising</td>\n",
       "      <td>30.450327</td>\n",
       "      <td>0.016341</td>\n",
       "      <td>813</td>\n",
       "      <td>1.01625</td>\n",
       "      <td>782.549673</td>\n",
       "      <td>0.419964</td>\n",
       "      <td>812.0</td>\n",
       "    </tr>\n",
       "    <tr>\n",
       "      <th>799</th>\n",
       "      <td>800</td>\n",
       "      <td>email marketing</td>\n",
       "      <td>5.246263</td>\n",
       "      <td>0.043822</td>\n",
       "      <td>4820</td>\n",
       "      <td>6.02500</td>\n",
       "      <td>4814.753737</td>\n",
       "      <td>40.217814</td>\n",
       "      <td>4819.0</td>\n",
       "    </tr>\n",
       "  </tbody>\n",
       "</table>\n",
       "<p>800 rows × 9 columns</p>\n",
       "</div>"
      ],
      "text/plain": [
       "     customer_id           channel       cost  conversion_rate  revenue  \\\n",
       "0              1          referral   8.320327         0.123145     4199   \n",
       "1              2  paid advertising  30.450327         0.016341     3410   \n",
       "2              3   email marketing   5.246263         0.043822     3164   \n",
       "3              4      social media   9.546326         0.167592     1520   \n",
       "4              5          referral   8.320327         0.123145     2419   \n",
       "..           ...               ...        ...              ...      ...   \n",
       "795          796      social media   9.546326         0.167592     2813   \n",
       "796          797   email marketing   5.246263         0.043822     3439   \n",
       "797          798      social media   9.546326         0.167592     2101   \n",
       "798          799  paid advertising  30.450327         0.016341      813   \n",
       "799          800   email marketing   5.246263         0.043822     4820   \n",
       "\n",
       "         AOV  gross_profit        clv     roi  \n",
       "0    5.24875   4190.679673  62.024146  4198.0  \n",
       "1    4.26250   3379.549673   1.813671  3409.0  \n",
       "2    3.95500   3158.753737  26.385185  3163.0  \n",
       "3    1.90000   1510.453674  26.517043  1519.0  \n",
       "4    3.02375   2410.679673  35.679260  2418.0  \n",
       "..       ...           ...        ...     ...  \n",
       "795  3.51625   2803.453674  49.216538  2812.0  \n",
       "796  4.29875   3433.753737  28.682270  3438.0  \n",
       "797  2.62625   2091.453674  36.716893  2100.0  \n",
       "798  1.01625    782.549673   0.419964   812.0  \n",
       "799  6.02500   4814.753737  40.217814  4819.0  \n",
       "\n",
       "[800 rows x 9 columns]"
      ]
     },
     "execution_count": 12,
     "metadata": {},
     "output_type": "execute_result"
    }
   ],
   "source": [
    "df['roi'] = df['revenue']-df['cost']/df['cost']\n",
    "df['roi'] = df['roi']\n",
    "df"
   ]
  },
  {
   "cell_type": "markdown",
   "id": "3045d85d",
   "metadata": {
    "papermill": {
     "duration": 0.013715,
     "end_time": "2023-07-05T00:23:29.138453",
     "exception": false,
     "start_time": "2023-07-05T00:23:29.124738",
     "status": "completed"
    },
    "tags": []
   },
   "source": [
    "## Cost By Chanel"
   ]
  },
  {
   "cell_type": "code",
   "execution_count": 13,
   "id": "aa961478",
   "metadata": {
    "execution": {
     "iopub.execute_input": "2023-07-05T00:23:29.168913Z",
     "iopub.status.busy": "2023-07-05T00:23:29.168235Z",
     "iopub.status.idle": "2023-07-05T00:23:29.580114Z",
     "shell.execute_reply": "2023-07-05T00:23:29.578803Z"
    },
    "papermill": {
     "duration": 0.430565,
     "end_time": "2023-07-05T00:23:29.583128",
     "exception": false,
     "start_time": "2023-07-05T00:23:29.152563",
     "status": "completed"
    },
    "tags": []
   },
   "outputs": [
    {
     "data": {
      "text/plain": [
       "<Axes: xlabel='channel', ylabel='cost'>"
      ]
     },
     "execution_count": 13,
     "metadata": {},
     "output_type": "execute_result"
    },
    {
     "data": {
      "image/png": "[encoded data removed]",
      "text/plain": [
       "<Figure size 700x300 with 1 Axes>"
      ]
     },
     "metadata": {},
     "output_type": "display_data"
    }
   ],
   "source": [
    "plt.figure(figsize=(7, 3))\n",
    "sns.barplot(df, x='channel', y='cost', palette='rocket')\n"
   ]
  },
  {
   "cell_type": "markdown",
   "id": "676769da",
   "metadata": {
    "papermill": {
     "duration": 0.014156,
     "end_time": "2023-07-05T00:23:29.612291",
     "exception": false,
     "start_time": "2023-07-05T00:23:29.598135",
     "status": "completed"
    },
    "tags": []
   },
   "source": [
    "## Revenue by Chanel"
   ]
  },
  {
   "cell_type": "code",
   "execution_count": 14,
   "id": "619d0ea3",
   "metadata": {
    "execution": {
     "iopub.execute_input": "2023-07-05T00:23:29.643148Z",
     "iopub.status.busy": "2023-07-05T00:23:29.642767Z",
     "iopub.status.idle": "2023-07-05T00:23:30.050459Z",
     "shell.execute_reply": "2023-07-05T00:23:30.048901Z"
    },
    "papermill": {
     "duration": 0.426128,
     "end_time": "2023-07-05T00:23:30.052989",
     "exception": false,
     "start_time": "2023-07-05T00:23:29.626861",
     "status": "completed"
    },
    "tags": []
   },
   "outputs": [
    {
     "data": {
      "text/plain": [
       "<Axes: xlabel='channel', ylabel='revenue'>"
      ]
     },
     "execution_count": 14,
     "metadata": {},
     "output_type": "execute_result"
    },
    {
     "data": {
      "image/png": "[encoded data removed]",
      "text/plain": [
       "<Figure size 700x300 with 1 Axes>"
      ]
     },
     "metadata": {},
     "output_type": "display_data"
    }
   ],
   "source": [
    "plt.figure(figsize=(7, 3))\n",
    "sns.barplot(df, x='channel', y='revenue',palette='rocket')"
   ]
  },
  {
   "cell_type": "markdown",
   "id": "d27b3814",
   "metadata": {
    "papermill": {
     "duration": 0.014767,
     "end_time": "2023-07-05T00:23:30.083110",
     "exception": false,
     "start_time": "2023-07-05T00:23:30.068343",
     "status": "completed"
    },
    "tags": []
   },
   "source": [
    "## ROI By Chanel"
   ]
  },
  {
   "cell_type": "code",
   "execution_count": 15,
   "id": "41847df6",
   "metadata": {
    "execution": {
     "iopub.execute_input": "2023-07-05T00:23:30.115294Z",
     "iopub.status.busy": "2023-07-05T00:23:30.114904Z",
     "iopub.status.idle": "2023-07-05T00:23:30.377925Z",
     "shell.execute_reply": "2023-07-05T00:23:30.376674Z"
    },
    "papermill": {
     "duration": 0.28276,
     "end_time": "2023-07-05T00:23:30.380964",
     "exception": false,
     "start_time": "2023-07-05T00:23:30.098204",
     "status": "completed"
    },
    "tags": []
   },
   "outputs": [
    {
     "data": {
      "image/png": "[encoded data removed]",
      "text/plain": [
       "<Figure size 700x300 with 1 Axes>"
      ]
     },
     "metadata": {},
     "output_type": "display_data"
    }
   ],
   "source": [
    "plt.figure(figsize=(7, 3))\n",
    "roi_by_channel = df.groupby('channel')['roi'].mean().reset_index()\n",
    "\n",
    "sns.barplot(roi_by_channel, x='channel', y='roi',palette='rocket');"
   ]
  },
  {
   "cell_type": "markdown",
   "id": "080c6f2f",
   "metadata": {
    "papermill": {
     "duration": 0.015335,
     "end_time": "2023-07-05T00:23:30.412333",
     "exception": false,
     "start_time": "2023-07-05T00:23:30.396998",
     "status": "completed"
    },
    "tags": []
   },
   "source": [
    "## Conversion rate by channel"
   ]
  },
  {
   "cell_type": "code",
   "execution_count": 16,
   "id": "7d4580f3",
   "metadata": {
    "execution": {
     "iopub.execute_input": "2023-07-05T00:23:30.444960Z",
     "iopub.status.busy": "2023-07-05T00:23:30.444509Z",
     "iopub.status.idle": "2023-07-05T00:23:30.859359Z",
     "shell.execute_reply": "2023-07-05T00:23:30.858218Z"
    },
    "papermill": {
     "duration": 0.434484,
     "end_time": "2023-07-05T00:23:30.862282",
     "exception": false,
     "start_time": "2023-07-05T00:23:30.427798",
     "status": "completed"
    },
    "tags": []
   },
   "outputs": [
    {
     "data": {
      "text/plain": [
       "<Axes: xlabel='channel', ylabel='conversion_rate'>"
      ]
     },
     "execution_count": 16,
     "metadata": {},
     "output_type": "execute_result"
    },
    {
     "data": {
      "image/png": "[encoded data removed]",
      "text/plain": [
       "<Figure size 700x300 with 1 Axes>"
      ]
     },
     "metadata": {},
     "output_type": "display_data"
    }
   ],
   "source": [
    "plt.figure(figsize=(7, 3))\n",
    "sns.barplot(df,x='channel', y='conversion_rate', palette='rocket')"
   ]
  },
  {
   "cell_type": "code",
   "execution_count": 17,
   "id": "133ebc4b",
   "metadata": {
    "execution": {
     "iopub.execute_input": "2023-07-05T00:23:30.896442Z",
     "iopub.status.busy": "2023-07-05T00:23:30.896051Z",
     "iopub.status.idle": "2023-07-05T00:23:30.900839Z",
     "shell.execute_reply": "2023-07-05T00:23:30.900021Z"
    },
    "papermill": {
     "duration": 0.024393,
     "end_time": "2023-07-05T00:23:30.902886",
     "exception": false,
     "start_time": "2023-07-05T00:23:30.878493",
     "status": "completed"
    },
    "tags": []
   },
   "outputs": [],
   "source": [
    "# Grouping the data based on 'channel'\n",
    "channel_groups = df.groupby('channel')\n"
   ]
  },
  {
   "cell_type": "code",
   "execution_count": 18,
   "id": "109b1063",
   "metadata": {
    "execution": {
     "iopub.execute_input": "2023-07-05T00:23:30.937201Z",
     "iopub.status.busy": "2023-07-05T00:23:30.936444Z",
     "iopub.status.idle": "2023-07-05T00:23:31.131171Z",
     "shell.execute_reply": "2023-07-05T00:23:31.129570Z"
    },
    "papermill": {
     "duration": 0.217303,
     "end_time": "2023-07-05T00:23:31.136390",
     "exception": false,
     "start_time": "2023-07-05T00:23:30.919087",
     "status": "completed"
    },
    "tags": []
   },
   "outputs": [
    {
     "data": {
      "image/png": "[encoded data removed]",
      "text/plain": [
       "<Figure size 800x600 with 1 Axes>"
      ]
     },
     "metadata": {},
     "output_type": "display_data"
    }
   ],
   "source": [
    "revenue_by_channel = channel_groups['revenue'].sum().reset_index()\n",
    "\n",
    "fig, ax = plt.subplots(figsize=(8, 6))\n",
    "plt.pie(revenue_by_channel['revenue'], \n",
    "        labels=revenue_by_channel['channel'], \n",
    "        autopct='%1.1f%%',\n",
    "        colors=sns.color_palette(\"flare\"));"
   ]
  },
  {
   "cell_type": "markdown",
   "id": "87ac429c",
   "metadata": {
    "papermill": {
     "duration": 0.016602,
     "end_time": "2023-07-05T00:23:31.185316",
     "exception": false,
     "start_time": "2023-07-05T00:23:31.168714",
     "status": "completed"
    },
    "tags": []
   },
   "source": [
    "# Customer Lifetime Value (CLTV)\n",
    "\n",
    "Customer lifetime value is a measurement of how valuable a customer is to your company, not just on a purchase-by-purchase basis but across entire customer relationships."
   ]
  },
  {
   "cell_type": "markdown",
   "id": "9488bba7",
   "metadata": {
    "papermill": {
     "duration": 0.016266,
     "end_time": "2023-07-05T00:23:31.218490",
     "exception": false,
     "start_time": "2023-07-05T00:23:31.202224",
     "status": "completed"
    },
    "tags": []
   },
   "source": [
    "## CLTV = [(revenue - cost) * conversion_rate]/cost"
   ]
  },
  {
   "cell_type": "code",
   "execution_count": 19,
   "id": "a3e1df8b",
   "metadata": {
    "execution": {
     "iopub.execute_input": "2023-07-05T00:23:31.255356Z",
     "iopub.status.busy": "2023-07-05T00:23:31.254614Z",
     "iopub.status.idle": "2023-07-05T00:23:31.278842Z",
     "shell.execute_reply": "2023-07-05T00:23:31.277707Z"
    },
    "papermill": {
     "duration": 0.045365,
     "end_time": "2023-07-05T00:23:31.281709",
     "exception": false,
     "start_time": "2023-07-05T00:23:31.236344",
     "status": "completed"
    },
    "tags": []
   },
   "outputs": [
    {
     "data": {
      "text/html": [
       "<div>\n",
       "<style scoped>\n",
       "    .dataframe tbody tr th:only-of-type {\n",
       "        vertical-align: middle;\n",
       "    }\n",
       "\n",
       "    .dataframe tbody tr th {\n",
       "        vertical-align: top;\n",
       "    }\n",
       "\n",
       "    .dataframe thead th {\n",
       "        text-align: right;\n",
       "    }\n",
       "</style>\n",
       "<table border=\"1\" class=\"dataframe\">\n",
       "  <thead>\n",
       "    <tr style=\"text-align: right;\">\n",
       "      <th></th>\n",
       "      <th>customer_id</th>\n",
       "      <th>channel</th>\n",
       "      <th>cost</th>\n",
       "      <th>conversion_rate</th>\n",
       "      <th>revenue</th>\n",
       "      <th>AOV</th>\n",
       "      <th>gross_profit</th>\n",
       "      <th>clv</th>\n",
       "      <th>roi</th>\n",
       "      <th>cltv</th>\n",
       "    </tr>\n",
       "  </thead>\n",
       "  <tbody>\n",
       "    <tr>\n",
       "      <th>0</th>\n",
       "      <td>1</td>\n",
       "      <td>referral</td>\n",
       "      <td>8.320327</td>\n",
       "      <td>0.123145</td>\n",
       "      <td>4199</td>\n",
       "      <td>5.24875</td>\n",
       "      <td>4190.679673</td>\n",
       "      <td>62.024146</td>\n",
       "      <td>4198.0</td>\n",
       "      <td>504.544536</td>\n",
       "    </tr>\n",
       "    <tr>\n",
       "      <th>1</th>\n",
       "      <td>2</td>\n",
       "      <td>paid advertising</td>\n",
       "      <td>30.450327</td>\n",
       "      <td>0.016341</td>\n",
       "      <td>3410</td>\n",
       "      <td>4.26250</td>\n",
       "      <td>3379.549673</td>\n",
       "      <td>1.813671</td>\n",
       "      <td>3409.0</td>\n",
       "      <td>111.969319</td>\n",
       "    </tr>\n",
       "    <tr>\n",
       "      <th>2</th>\n",
       "      <td>3</td>\n",
       "      <td>email marketing</td>\n",
       "      <td>5.246263</td>\n",
       "      <td>0.043822</td>\n",
       "      <td>3164</td>\n",
       "      <td>3.95500</td>\n",
       "      <td>3158.753737</td>\n",
       "      <td>26.385185</td>\n",
       "      <td>3163.0</td>\n",
       "      <td>603.052103</td>\n",
       "    </tr>\n",
       "    <tr>\n",
       "      <th>3</th>\n",
       "      <td>4</td>\n",
       "      <td>social media</td>\n",
       "      <td>9.546326</td>\n",
       "      <td>0.167592</td>\n",
       "      <td>1520</td>\n",
       "      <td>1.90000</td>\n",
       "      <td>1510.453674</td>\n",
       "      <td>26.517043</td>\n",
       "      <td>1519.0</td>\n",
       "      <td>159.055972</td>\n",
       "    </tr>\n",
       "    <tr>\n",
       "      <th>4</th>\n",
       "      <td>5</td>\n",
       "      <td>referral</td>\n",
       "      <td>8.320327</td>\n",
       "      <td>0.123145</td>\n",
       "      <td>2419</td>\n",
       "      <td>3.02375</td>\n",
       "      <td>2410.679673</td>\n",
       "      <td>35.679260</td>\n",
       "      <td>2418.0</td>\n",
       "      <td>290.610630</td>\n",
       "    </tr>\n",
       "    <tr>\n",
       "      <th>...</th>\n",
       "      <td>...</td>\n",
       "      <td>...</td>\n",
       "      <td>...</td>\n",
       "      <td>...</td>\n",
       "      <td>...</td>\n",
       "      <td>...</td>\n",
       "      <td>...</td>\n",
       "      <td>...</td>\n",
       "      <td>...</td>\n",
       "      <td>...</td>\n",
       "    </tr>\n",
       "    <tr>\n",
       "      <th>795</th>\n",
       "      <td>796</td>\n",
       "      <td>social media</td>\n",
       "      <td>9.546326</td>\n",
       "      <td>0.167592</td>\n",
       "      <td>2813</td>\n",
       "      <td>3.51625</td>\n",
       "      <td>2803.453674</td>\n",
       "      <td>49.216538</td>\n",
       "      <td>2812.0</td>\n",
       "      <td>294.500754</td>\n",
       "    </tr>\n",
       "    <tr>\n",
       "      <th>796</th>\n",
       "      <td>797</td>\n",
       "      <td>email marketing</td>\n",
       "      <td>5.246263</td>\n",
       "      <td>0.043822</td>\n",
       "      <td>3439</td>\n",
       "      <td>4.29875</td>\n",
       "      <td>3433.753737</td>\n",
       "      <td>28.682270</td>\n",
       "      <td>3438.0</td>\n",
       "      <td>655.470364</td>\n",
       "    </tr>\n",
       "    <tr>\n",
       "      <th>797</th>\n",
       "      <td>798</td>\n",
       "      <td>social media</td>\n",
       "      <td>9.546326</td>\n",
       "      <td>0.167592</td>\n",
       "      <td>2101</td>\n",
       "      <td>2.62625</td>\n",
       "      <td>2091.453674</td>\n",
       "      <td>36.716893</td>\n",
       "      <td>2100.0</td>\n",
       "      <td>219.917085</td>\n",
       "    </tr>\n",
       "    <tr>\n",
       "      <th>798</th>\n",
       "      <td>799</td>\n",
       "      <td>paid advertising</td>\n",
       "      <td>30.450327</td>\n",
       "      <td>0.016341</td>\n",
       "      <td>813</td>\n",
       "      <td>1.01625</td>\n",
       "      <td>782.549673</td>\n",
       "      <td>0.419964</td>\n",
       "      <td>812.0</td>\n",
       "      <td>26.682879</td>\n",
       "    </tr>\n",
       "    <tr>\n",
       "      <th>799</th>\n",
       "      <td>800</td>\n",
       "      <td>email marketing</td>\n",
       "      <td>5.246263</td>\n",
       "      <td>0.043822</td>\n",
       "      <td>4820</td>\n",
       "      <td>6.02500</td>\n",
       "      <td>4814.753737</td>\n",
       "      <td>40.217814</td>\n",
       "      <td>4819.0</td>\n",
       "      <td>918.705343</td>\n",
       "    </tr>\n",
       "  </tbody>\n",
       "</table>\n",
       "<p>800 rows × 10 columns</p>\n",
       "</div>"
      ],
      "text/plain": [
       "     customer_id           channel       cost  conversion_rate  revenue  \\\n",
       "0              1          referral   8.320327         0.123145     4199   \n",
       "1              2  paid advertising  30.450327         0.016341     3410   \n",
       "2              3   email marketing   5.246263         0.043822     3164   \n",
       "3              4      social media   9.546326         0.167592     1520   \n",
       "4              5          referral   8.320327         0.123145     2419   \n",
       "..           ...               ...        ...              ...      ...   \n",
       "795          796      social media   9.546326         0.167592     2813   \n",
       "796          797   email marketing   5.246263         0.043822     3439   \n",
       "797          798      social media   9.546326         0.167592     2101   \n",
       "798          799  paid advertising  30.450327         0.016341      813   \n",
       "799          800   email marketing   5.246263         0.043822     4820   \n",
       "\n",
       "         AOV  gross_profit        clv     roi        cltv  \n",
       "0    5.24875   4190.679673  62.024146  4198.0  504.544536  \n",
       "1    4.26250   3379.549673   1.813671  3409.0  111.969319  \n",
       "2    3.95500   3158.753737  26.385185  3163.0  603.052103  \n",
       "3    1.90000   1510.453674  26.517043  1519.0  159.055972  \n",
       "4    3.02375   2410.679673  35.679260  2418.0  290.610630  \n",
       "..       ...           ...        ...     ...         ...  \n",
       "795  3.51625   2803.453674  49.216538  2812.0  294.500754  \n",
       "796  4.29875   3433.753737  28.682270  3438.0  655.470364  \n",
       "797  2.62625   2091.453674  36.716893  2100.0  219.917085  \n",
       "798  1.01625    782.549673   0.419964   812.0   26.682879  \n",
       "799  6.02500   4814.753737  40.217814  4819.0  918.705343  \n",
       "\n",
       "[800 rows x 10 columns]"
      ]
     },
     "execution_count": 19,
     "metadata": {},
     "output_type": "execute_result"
    }
   ],
   "source": [
    "df['cltv']= (df['revenue']-df['cost']*df['conversion_rate'])/df['cost']\n",
    "df"
   ]
  },
  {
   "cell_type": "code",
   "execution_count": 20,
   "id": "32b41b50",
   "metadata": {
    "execution": {
     "iopub.execute_input": "2023-07-05T00:23:31.318021Z",
     "iopub.status.busy": "2023-07-05T00:23:31.317591Z",
     "iopub.status.idle": "2023-07-05T00:23:31.598224Z",
     "shell.execute_reply": "2023-07-05T00:23:31.596951Z"
    },
    "papermill": {
     "duration": 0.30198,
     "end_time": "2023-07-05T00:23:31.600921",
     "exception": false,
     "start_time": "2023-07-05T00:23:31.298941",
     "status": "completed"
    },
    "tags": []
   },
   "outputs": [
    {
     "data": {
      "text/plain": [
       "<Axes: xlabel='channel', ylabel='cltv'>"
      ]
     },
     "execution_count": 20,
     "metadata": {},
     "output_type": "execute_result"
    },
    {
     "data": {
      "image/png": "[encoded data removed]",
      "text/plain": [
       "<Figure size 700x300 with 1 Axes>"
      ]
     },
     "metadata": {},
     "output_type": "display_data"
    }
   ],
   "source": [
    "plt.figure(figsize=(7, 3))\n",
    "sns.boxplot(df,x='channel', y='cltv', palette='rocket')"
   ]
  },
  {
   "cell_type": "code",
   "execution_count": 21,
   "id": "f72d6ba6",
   "metadata": {
    "execution": {
     "iopub.execute_input": "2023-07-05T00:23:31.638118Z",
     "iopub.status.busy": "2023-07-05T00:23:31.637725Z",
     "iopub.status.idle": "2023-07-05T00:23:31.977020Z",
     "shell.execute_reply": "2023-07-05T00:23:31.975719Z"
    },
    "papermill": {
     "duration": 0.361241,
     "end_time": "2023-07-05T00:23:31.979685",
     "exception": false,
     "start_time": "2023-07-05T00:23:31.618444",
     "status": "completed"
    },
    "tags": []
   },
   "outputs": [
    {
     "data": {
      "text/plain": [
       "<Axes: xlabel='channel', ylabel='cltv'>"
      ]
     },
     "execution_count": 21,
     "metadata": {},
     "output_type": "execute_result"
    },
    {
     "data": {
      "image/png": "[encoded data removed]",
      "text/plain": [
       "<Figure size 700x300 with 1 Axes>"
      ]
     },
     "metadata": {},
     "output_type": "display_data"
    }
   ],
   "source": [
    "plt.figure(figsize=(7, 3))\n",
    "sns.barplot(df,x='channel', y='cltv', palette='rocket')"
   ]
  },
  {
   "cell_type": "markdown",
   "id": "29401501",
   "metadata": {
    "papermill": {
     "duration": 0.018507,
     "end_time": "2023-07-05T00:23:32.016611",
     "exception": false,
     "start_time": "2023-07-05T00:23:31.998104",
     "status": "completed"
    },
    "tags": []
   },
   "source": [
    "# Segmentation and Analysis:\n",
    "ABC Electronics segments their customers into three groups based on CLVT:\n",
    "\n",
    "High-Value Customers: Customers with CLV in the top 20% percentile. These customers generate the most revenue for the business.\n",
    "\n",
    "Medium-Value Customers: Customers with CLV in the middle 60% percentile. These customers contribute to the overall revenue and have decent long-term potential.\n",
    "\n",
    "Low-Value Customers: Customers with CLV in the bottom 20% percentile. These customers have low spending patterns and may require additional nurturing to increase their CLV."
   ]
  },
  {
   "cell_type": "code",
   "execution_count": 22,
   "id": "53ae2692",
   "metadata": {
    "execution": {
     "iopub.execute_input": "2023-07-05T00:23:32.055764Z",
     "iopub.status.busy": "2023-07-05T00:23:32.055298Z",
     "iopub.status.idle": "2023-07-05T00:23:32.062299Z",
     "shell.execute_reply": "2023-07-05T00:23:32.061434Z"
    },
    "papermill": {
     "duration": 0.029462,
     "end_time": "2023-07-05T00:23:32.064394",
     "exception": false,
     "start_time": "2023-07-05T00:23:32.034932",
     "status": "completed"
    },
    "tags": []
   },
   "outputs": [
    {
     "data": {
      "text/plain": [
       "316.58215441066625"
      ]
     },
     "execution_count": 22,
     "metadata": {},
     "output_type": "execute_result"
    }
   ],
   "source": [
    "average_clv = df['cltv'].mean()\n",
    "average_clv"
   ]
  },
  {
   "cell_type": "code",
   "execution_count": 23,
   "id": "32dfec04",
   "metadata": {
    "execution": {
     "iopub.execute_input": "2023-07-05T00:23:32.102794Z",
     "iopub.status.busy": "2023-07-05T00:23:32.101990Z",
     "iopub.status.idle": "2023-07-05T00:23:32.108778Z",
     "shell.execute_reply": "2023-07-05T00:23:32.107827Z"
    },
    "papermill": {
     "duration": 0.028454,
     "end_time": "2023-07-05T00:23:32.111118",
     "exception": false,
     "start_time": "2023-07-05T00:23:32.082664",
     "status": "completed"
    },
    "tags": []
   },
   "outputs": [],
   "source": [
    "df['Customer_Value'] = ['High' if clv > average_clv else 'Low' for clv in df['clv']]\n"
   ]
  },
  {
   "cell_type": "code",
   "execution_count": 24,
   "id": "b46f85b0",
   "metadata": {
    "execution": {
     "iopub.execute_input": "2023-07-05T00:23:32.149706Z",
     "iopub.status.busy": "2023-07-05T00:23:32.148897Z",
     "iopub.status.idle": "2023-07-05T00:23:32.172962Z",
     "shell.execute_reply": "2023-07-05T00:23:32.172051Z"
    },
    "papermill": {
     "duration": 0.045986,
     "end_time": "2023-07-05T00:23:32.175370",
     "exception": false,
     "start_time": "2023-07-05T00:23:32.129384",
     "status": "completed"
    },
    "tags": []
   },
   "outputs": [
    {
     "data": {
      "text/html": [
       "<div>\n",
       "<style scoped>\n",
       "    .dataframe tbody tr th:only-of-type {\n",
       "        vertical-align: middle;\n",
       "    }\n",
       "\n",
       "    .dataframe tbody tr th {\n",
       "        vertical-align: top;\n",
       "    }\n",
       "\n",
       "    .dataframe thead th {\n",
       "        text-align: right;\n",
       "    }\n",
       "</style>\n",
       "<table border=\"1\" class=\"dataframe\">\n",
       "  <thead>\n",
       "    <tr style=\"text-align: right;\">\n",
       "      <th></th>\n",
       "      <th>customer_id</th>\n",
       "      <th>channel</th>\n",
       "      <th>cost</th>\n",
       "      <th>conversion_rate</th>\n",
       "      <th>revenue</th>\n",
       "      <th>AOV</th>\n",
       "      <th>gross_profit</th>\n",
       "      <th>clv</th>\n",
       "      <th>roi</th>\n",
       "      <th>cltv</th>\n",
       "      <th>Customer_Value</th>\n",
       "    </tr>\n",
       "  </thead>\n",
       "  <tbody>\n",
       "    <tr>\n",
       "      <th>0</th>\n",
       "      <td>1</td>\n",
       "      <td>referral</td>\n",
       "      <td>8.320327</td>\n",
       "      <td>0.123145</td>\n",
       "      <td>4199</td>\n",
       "      <td>5.24875</td>\n",
       "      <td>4190.679673</td>\n",
       "      <td>62.024146</td>\n",
       "      <td>4198.0</td>\n",
       "      <td>504.544536</td>\n",
       "      <td>Low</td>\n",
       "    </tr>\n",
       "    <tr>\n",
       "      <th>1</th>\n",
       "      <td>2</td>\n",
       "      <td>paid advertising</td>\n",
       "      <td>30.450327</td>\n",
       "      <td>0.016341</td>\n",
       "      <td>3410</td>\n",
       "      <td>4.26250</td>\n",
       "      <td>3379.549673</td>\n",
       "      <td>1.813671</td>\n",
       "      <td>3409.0</td>\n",
       "      <td>111.969319</td>\n",
       "      <td>Low</td>\n",
       "    </tr>\n",
       "    <tr>\n",
       "      <th>2</th>\n",
       "      <td>3</td>\n",
       "      <td>email marketing</td>\n",
       "      <td>5.246263</td>\n",
       "      <td>0.043822</td>\n",
       "      <td>3164</td>\n",
       "      <td>3.95500</td>\n",
       "      <td>3158.753737</td>\n",
       "      <td>26.385185</td>\n",
       "      <td>3163.0</td>\n",
       "      <td>603.052103</td>\n",
       "      <td>Low</td>\n",
       "    </tr>\n",
       "    <tr>\n",
       "      <th>3</th>\n",
       "      <td>4</td>\n",
       "      <td>social media</td>\n",
       "      <td>9.546326</td>\n",
       "      <td>0.167592</td>\n",
       "      <td>1520</td>\n",
       "      <td>1.90000</td>\n",
       "      <td>1510.453674</td>\n",
       "      <td>26.517043</td>\n",
       "      <td>1519.0</td>\n",
       "      <td>159.055972</td>\n",
       "      <td>Low</td>\n",
       "    </tr>\n",
       "    <tr>\n",
       "      <th>4</th>\n",
       "      <td>5</td>\n",
       "      <td>referral</td>\n",
       "      <td>8.320327</td>\n",
       "      <td>0.123145</td>\n",
       "      <td>2419</td>\n",
       "      <td>3.02375</td>\n",
       "      <td>2410.679673</td>\n",
       "      <td>35.679260</td>\n",
       "      <td>2418.0</td>\n",
       "      <td>290.610630</td>\n",
       "      <td>Low</td>\n",
       "    </tr>\n",
       "    <tr>\n",
       "      <th>...</th>\n",
       "      <td>...</td>\n",
       "      <td>...</td>\n",
       "      <td>...</td>\n",
       "      <td>...</td>\n",
       "      <td>...</td>\n",
       "      <td>...</td>\n",
       "      <td>...</td>\n",
       "      <td>...</td>\n",
       "      <td>...</td>\n",
       "      <td>...</td>\n",
       "      <td>...</td>\n",
       "    </tr>\n",
       "    <tr>\n",
       "      <th>795</th>\n",
       "      <td>796</td>\n",
       "      <td>social media</td>\n",
       "      <td>9.546326</td>\n",
       "      <td>0.167592</td>\n",
       "      <td>2813</td>\n",
       "      <td>3.51625</td>\n",
       "      <td>2803.453674</td>\n",
       "      <td>49.216538</td>\n",
       "      <td>2812.0</td>\n",
       "      <td>294.500754</td>\n",
       "      <td>Low</td>\n",
       "    </tr>\n",
       "    <tr>\n",
       "      <th>796</th>\n",
       "      <td>797</td>\n",
       "      <td>email marketing</td>\n",
       "      <td>5.246263</td>\n",
       "      <td>0.043822</td>\n",
       "      <td>3439</td>\n",
       "      <td>4.29875</td>\n",
       "      <td>3433.753737</td>\n",
       "      <td>28.682270</td>\n",
       "      <td>3438.0</td>\n",
       "      <td>655.470364</td>\n",
       "      <td>Low</td>\n",
       "    </tr>\n",
       "    <tr>\n",
       "      <th>797</th>\n",
       "      <td>798</td>\n",
       "      <td>social media</td>\n",
       "      <td>9.546326</td>\n",
       "      <td>0.167592</td>\n",
       "      <td>2101</td>\n",
       "      <td>2.62625</td>\n",
       "      <td>2091.453674</td>\n",
       "      <td>36.716893</td>\n",
       "      <td>2100.0</td>\n",
       "      <td>219.917085</td>\n",
       "      <td>Low</td>\n",
       "    </tr>\n",
       "    <tr>\n",
       "      <th>798</th>\n",
       "      <td>799</td>\n",
       "      <td>paid advertising</td>\n",
       "      <td>30.450327</td>\n",
       "      <td>0.016341</td>\n",
       "      <td>813</td>\n",
       "      <td>1.01625</td>\n",
       "      <td>782.549673</td>\n",
       "      <td>0.419964</td>\n",
       "      <td>812.0</td>\n",
       "      <td>26.682879</td>\n",
       "      <td>Low</td>\n",
       "    </tr>\n",
       "    <tr>\n",
       "      <th>799</th>\n",
       "      <td>800</td>\n",
       "      <td>email marketing</td>\n",
       "      <td>5.246263</td>\n",
       "      <td>0.043822</td>\n",
       "      <td>4820</td>\n",
       "      <td>6.02500</td>\n",
       "      <td>4814.753737</td>\n",
       "      <td>40.217814</td>\n",
       "      <td>4819.0</td>\n",
       "      <td>918.705343</td>\n",
       "      <td>Low</td>\n",
       "    </tr>\n",
       "  </tbody>\n",
       "</table>\n",
       "<p>800 rows × 11 columns</p>\n",
       "</div>"
      ],
      "text/plain": [
       "     customer_id           channel       cost  conversion_rate  revenue  \\\n",
       "0              1          referral   8.320327         0.123145     4199   \n",
       "1              2  paid advertising  30.450327         0.016341     3410   \n",
       "2              3   email marketing   5.246263         0.043822     3164   \n",
       "3              4      social media   9.546326         0.167592     1520   \n",
       "4              5          referral   8.320327         0.123145     2419   \n",
       "..           ...               ...        ...              ...      ...   \n",
       "795          796      social media   9.546326         0.167592     2813   \n",
       "796          797   email marketing   5.246263         0.043822     3439   \n",
       "797          798      social media   9.546326         0.167592     2101   \n",
       "798          799  paid advertising  30.450327         0.016341      813   \n",
       "799          800   email marketing   5.246263         0.043822     4820   \n",
       "\n",
       "         AOV  gross_profit        clv     roi        cltv Customer_Value  \n",
       "0    5.24875   4190.679673  62.024146  4198.0  504.544536            Low  \n",
       "1    4.26250   3379.549673   1.813671  3409.0  111.969319            Low  \n",
       "2    3.95500   3158.753737  26.385185  3163.0  603.052103            Low  \n",
       "3    1.90000   1510.453674  26.517043  1519.0  159.055972            Low  \n",
       "4    3.02375   2410.679673  35.679260  2418.0  290.610630            Low  \n",
       "..       ...           ...        ...     ...         ...            ...  \n",
       "795  3.51625   2803.453674  49.216538  2812.0  294.500754            Low  \n",
       "796  4.29875   3433.753737  28.682270  3438.0  655.470364            Low  \n",
       "797  2.62625   2091.453674  36.716893  2100.0  219.917085            Low  \n",
       "798  1.01625    782.549673   0.419964   812.0   26.682879            Low  \n",
       "799  6.02500   4814.753737  40.217814  4819.0  918.705343            Low  \n",
       "\n",
       "[800 rows x 11 columns]"
      ]
     },
     "execution_count": 24,
     "metadata": {},
     "output_type": "execute_result"
    }
   ],
   "source": [
    "df"
   ]
  },
  {
   "cell_type": "code",
   "execution_count": 25,
   "id": "c06ce5ce",
   "metadata": {
    "execution": {
     "iopub.execute_input": "2023-07-05T00:23:32.214914Z",
     "iopub.status.busy": "2023-07-05T00:23:32.214211Z",
     "iopub.status.idle": "2023-07-05T00:23:32.373246Z",
     "shell.execute_reply": "2023-07-05T00:23:32.372319Z"
    },
    "papermill": {
     "duration": 0.181614,
     "end_time": "2023-07-05T00:23:32.375772",
     "exception": false,
     "start_time": "2023-07-05T00:23:32.194158",
     "status": "completed"
    },
    "tags": []
   },
   "outputs": [
    {
     "data": {
      "image/png": "[encoded data removed]",
      "text/plain": [
       "<Figure size 500x300 with 1 Axes>"
      ]
     },
     "metadata": {},
     "output_type": "display_data"
    }
   ],
   "source": [
    "fig, ax = plt.subplots(figsize=(5, 3))\n",
    "sns.countplot(df, x='Customer_Value', color='#e13342')\n",
    "plt.ylabel('Count')\n",
    "plt.title('Counts of Customer Value')\n",
    "plt.show()\n"
   ]
  },
  {
   "cell_type": "code",
   "execution_count": 26,
   "id": "46fc22cb",
   "metadata": {
    "execution": {
     "iopub.execute_input": "2023-07-05T00:23:32.416534Z",
     "iopub.status.busy": "2023-07-05T00:23:32.415697Z",
     "iopub.status.idle": "2023-07-05T00:23:32.423208Z",
     "shell.execute_reply": "2023-07-05T00:23:32.421912Z"
    },
    "papermill": {
     "duration": 0.03063,
     "end_time": "2023-07-05T00:23:32.425512",
     "exception": false,
     "start_time": "2023-07-05T00:23:32.394882",
     "status": "completed"
    },
    "tags": []
   },
   "outputs": [
    {
     "name": "stdout",
     "output_type": "stream",
     "text": [
      "['#35193e', '#701f57', '#ad1759', '#e13342', '#f37651', '#f6b48f']\n"
     ]
    }
   ],
   "source": [
    "print(sns.color_palette(\"rocket\").as_hex())"
   ]
  },
  {
   "cell_type": "markdown",
   "id": "c893a0b7",
   "metadata": {
    "papermill": {
     "duration": 0.01888,
     "end_time": "2023-07-05T00:23:32.468916",
     "exception": false,
     "start_time": "2023-07-05T00:23:32.450036",
     "status": "completed"
    },
    "tags": []
   },
   "source": [
    "# The most valuable customer segments.\n",
    "\n",
    "The most customer segments are in email marketing, despite all the channels have similar ROI and revenue, the greatest CLVT is in email marketing, it allows ABC Eletronics to sell to this public more than just one time. \n"
   ]
  },
  {
   "cell_type": "markdown",
   "id": "17ebf952",
   "metadata": {
    "papermill": {
     "duration": 0.018672,
     "end_time": "2023-07-05T00:23:32.507483",
     "exception": false,
     "start_time": "2023-07-05T00:23:32.488811",
     "status": "completed"
    },
    "tags": []
   },
   "source": [
    "Monitoring and Evaluation:\n",
    "ABC Electronics continuously monitors the effectiveness of their marketing strategies by tracking CLV over time and assessing changes in customer behavior. They analyze metrics such as repeat purchase rate, average order value, and customer retention rate to evaluate the success of their initiatives.\n",
    "\n",
    "By leveraging CLV analytics, ABC Electronics can allocate their marketing resources effectively, focus on customer segments with the highest potential, and develop strategies to maximize customer retention and long-term profitability.\n",
    "\n",
    "This case study demonstrates the practical application of CLV analytics in a real-world scenario and highlights the importance of data-driven decision-making for optimizing business performance."
   ]
  }
 ],
 "metadata": {
  "kernelspec": {
   "display_name": "Python 3",
   "language": "python",
   "name": "python3"
  },
  "language_info": {
   "codemirror_mode": {
    "name": "ipython",
    "version": 3
   },
   "file_extension": ".py",
   "mimetype": "text/x-python",
   "name": "python",
   "nbconvert_exporter": "python",
   "pygments_lexer": "ipython3",
   "version": "3.10.10"
  },
  "papermill": {
   "default_parameters": {},
   "duration": 19.805458,
   "end_time": "2023-07-05T00:23:33.550782",
   "environment_variables": {},
   "exception": null,
   "input_path": "__notebook__.ipynb",
   "output_path": "__notebook__.ipynb",
   "parameters": {},
   "start_time": "2023-07-05T00:23:13.745324",
   "version": "2.4.0"
  }
 },
 "nbformat": 4,
 "nbformat_minor": 5
}
